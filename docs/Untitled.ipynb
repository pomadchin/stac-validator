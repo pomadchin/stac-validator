{
 "cells": [
  {
   "cell_type": "code",
   "execution_count": 1,
   "metadata": {},
   "outputs": [],
   "source": [
    "import pystac as stac"
   ]
  },
  {
   "cell_type": "code",
   "execution_count": 3,
   "metadata": {},
   "outputs": [],
   "source": [
    "from urllib.parse import urlparse\n",
    "import boto3\n",
    "from pystac import STAC_IO\n",
    "\n",
    "def my_read_method(uri):\n",
    "    parsed = urlparse(uri)\n",
    "    if parsed.scheme == 's3':\n",
    "        bucket = parsed.netloc\n",
    "        key = parsed.path[1:]\n",
    "        s3 = boto3.resource('s3')\n",
    "        obj = s3.Object(bucket, key)\n",
    "        return obj.get()['Body'].read().decode('utf-8')\n",
    "    else:\n",
    "        return STAC_IO.default_read_text_method(uri)\n",
    "\n",
    "def my_write_method(uri, txt):\n",
    "    parsed = urlparse(uri)\n",
    "    if parsed.scheme == 's3':\n",
    "        bucket = parsed.netloc\n",
    "        key = parsed.path[1:]\n",
    "        s3 = boto3.resource(\"s3\")\n",
    "        s3.Object(bucket, key).put(Body=txt)\n",
    "    else:\n",
    "        STAC_IO.default_write_text_method(uri, txt)\n",
    "\n",
    "STAC_IO.read_text_method = my_read_method\n",
    "STAC_IO.write_text_method = my_write_method"
   ]
  },
  {
   "cell_type": "code",
   "execution_count": 5,
   "metadata": {},
   "outputs": [],
   "source": [
    "cat = stac.Catalog.from_file('s3://raster-vision-rob-dev/stac-packer/bae/angola-cog-water-label/catalog.json')"
   ]
  },
  {
   "cell_type": "code",
   "execution_count": 7,
   "metadata": {},
   "outputs": [],
   "source": [
    "items = list(cat.get_all_items())"
   ]
  },
  {
   "cell_type": "code",
   "execution_count": 8,
   "metadata": {},
   "outputs": [
    {
     "data": {
      "text/plain": [
       "2404"
      ]
     },
     "execution_count": 8,
     "metadata": {},
     "output_type": "execute_result"
    }
   ],
   "source": [
    "len(items)"
   ]
  },
  {
   "cell_type": "code",
   "execution_count": 9,
   "metadata": {},
   "outputs": [],
   "source": [
    "label_items = [i for i in items if isinstance(i, stac.LabelItem)]"
   ]
  },
  {
   "cell_type": "code",
   "execution_count": 10,
   "metadata": {},
   "outputs": [
    {
     "data": {
      "text/plain": [
       "1202"
      ]
     },
     "execution_count": 10,
     "metadata": {},
     "output_type": "execute_result"
    }
   ],
   "source": [
    "len(label_items)"
   ]
  },
  {
   "cell_type": "code",
   "execution_count": 76,
   "metadata": {},
   "outputs": [],
   "source": [
    "targets = list(filter(lambda x: '5-S2A_MSIL1C_20190709T084601_N0208_R107_T33LZL_20190709T105334-101' in next(iter(x.get_sources())).id, label_items))\n",
    "\n"
   ]
  },
  {
   "cell_type": "code",
   "execution_count": 77,
   "metadata": {},
   "outputs": [],
   "source": [
    "li = targets[0]"
   ]
  },
  {
   "cell_type": "code",
   "execution_count": 78,
   "metadata": {},
   "outputs": [
    {
     "data": {
      "text/plain": [
       "{'78f8f48e-a6d7-4e1a-9b1a-dd4df92115bc': <Asset href=s3://raster-vision-rob-dev/stac-packer/bae/angola-cog-water-label/35e2d746-2f65-4596-bad6-195bda0b5a90/78f8f48e-a6d7-4e1a-9b1a-dd4df92115bc/data.geojson>}"
      ]
     },
     "execution_count": 78,
     "metadata": {},
     "output_type": "execute_result"
    }
   ],
   "source": [
    "li.assets"
   ]
  },
  {
   "cell_type": "code",
   "execution_count": 79,
   "metadata": {},
   "outputs": [],
   "source": [
    "gj = stac.STAC_IO.read_json(next(iter(li.assets.values())).href)"
   ]
  },
  {
   "cell_type": "code",
   "execution_count": 80,
   "metadata": {},
   "outputs": [],
   "source": [
    "from shapely.geometry import shape"
   ]
  },
  {
   "cell_type": "code",
   "execution_count": 81,
   "metadata": {},
   "outputs": [
    {
     "data": {
      "text/plain": [
       "1"
      ]
     },
     "execution_count": 81,
     "metadata": {},
     "output_type": "execute_result"
    }
   ],
   "source": [
    "len(gj['features'])"
   ]
  },
  {
   "cell_type": "code",
   "execution_count": 82,
   "metadata": {},
   "outputs": [
    {
     "data": {
      "image/svg+xml": [
       "<svg xmlns=\"http://www.w3.org/2000/svg\" xmlns:xlink=\"http://www.w3.org/1999/xlink\" width=\"100.0\" height=\"100.0\" viewBox=\"17.995063734418327 -8.900541272215829 0.0034890501981692523 0.011752170705172205\" preserveAspectRatio=\"xMinYMin meet\"><g transform=\"matrix(1,0,0,-1,0,-17.789330373726486)\"><polyline fill=\"none\" stroke=\"#66cc99\" stroke-width=\"0.0002350434141034441\" points=\"17.998117519034825,-8.900106006634156 17.997234,-8.899896 17.996324,-8.898969 17.995584,-8.898014 17.995499,-8.896918 17.996096,-8.893405 17.996523,-8.891607 17.997234,-8.890118 17.998117519034825,-8.88922436709233\" opacity=\"0.8\" /></g></svg>"
      ],
      "text/plain": [
       "<shapely.geometry.linestring.LineString at 0x1115f1588>"
      ]
     },
     "execution_count": 82,
     "metadata": {},
     "output_type": "execute_result"
    }
   ],
   "source": [
    "shape(gj['features'][0]['geometry'])"
   ]
  },
  {
   "cell_type": "code",
   "execution_count": 83,
   "metadata": {},
   "outputs": [
    {
     "ename": "IndexError",
     "evalue": "list index out of range",
     "output_type": "error",
     "traceback": [
      "\u001b[0;31m---------------------------------------------------------------------------\u001b[0m",
      "\u001b[0;31mIndexError\u001b[0m                                Traceback (most recent call last)",
      "\u001b[0;32m<ipython-input-83-e9784aee30d0>\u001b[0m in \u001b[0;36m<module>\u001b[0;34m\u001b[0m\n\u001b[0;32m----> 1\u001b[0;31m \u001b[0mshape\u001b[0m\u001b[0;34m(\u001b[0m\u001b[0mgj\u001b[0m\u001b[0;34m[\u001b[0m\u001b[0;34m'features'\u001b[0m\u001b[0;34m]\u001b[0m\u001b[0;34m[\u001b[0m\u001b[0;36m1\u001b[0m\u001b[0;34m]\u001b[0m\u001b[0;34m[\u001b[0m\u001b[0;34m'geometry'\u001b[0m\u001b[0;34m]\u001b[0m\u001b[0;34m)\u001b[0m\u001b[0;34m\u001b[0m\u001b[0m\n\u001b[0m",
      "\u001b[0;31mIndexError\u001b[0m: list index out of range"
     ]
    }
   ],
   "source": [
    "shape(gj['features'][1]['geometry'])"
   ]
  },
  {
   "cell_type": "code",
   "execution_count": 84,
   "metadata": {},
   "outputs": [
    {
     "data": {
      "image/svg+xml": [
       "<svg xmlns=\"http://www.w3.org/2000/svg\" xmlns:xlink=\"http://www.w3.org/1999/xlink\" width=\"100.0\" height=\"100.0\" viewBox=\"17.958015777531244 -8.919444422503316 0.041963798726104784 0.05027554500812137\" preserveAspectRatio=\"xMinYMin meet\"><g transform=\"matrix(1,0,0,-1,0,-17.78861329999851)\"><g><polyline fill=\"none\" stroke=\"#66cc99\" stroke-width=\"0.0010055109001624275\" points=\"17.998117519034825,-8.900106006634156 17.997991384842713,-8.90007602537049\" opacity=\"0.8\" /><polyline fill=\"none\" stroke=\"#66cc99\" stroke-width=\"0.0010055109001624275\" points=\"17.997913331572775,-8.889430891941517 17.998117519034825,-8.88922436709233\" opacity=\"0.8\" /><path fill-rule=\"evenodd\" fill=\"#66cc99\" stroke=\"#555555\" stroke-width=\"0.0010055109001624275\" opacity=\"0.6\" d=\"M 17.95987783475377,-8.871333425075191 L 17.997778417638852,-8.871030934717718 L 17.997913331572775,-8.889430891941517 L 17.997991384842713,-8.90007602537049 L 17.998117519034825,-8.917278575706348 L 17.960249654116048,-8.917582365280794 L 17.95987783475377,-8.871333425075191 z\" /></g></g></svg>"
      ],
      "text/plain": [
       "<shapely.geometry.collection.GeometryCollection at 0x1115f13c8>"
      ]
     },
     "execution_count": 84,
     "metadata": {},
     "output_type": "execute_result"
    }
   ],
   "source": [
    "shape(li.geometry).union(shape(gj['features'][0]['geometry']))"
   ]
  },
  {
   "cell_type": "code",
   "execution_count": 85,
   "metadata": {},
   "outputs": [],
   "source": [
    "gj['features'].append(li.to_dict())"
   ]
  },
  {
   "cell_type": "code",
   "execution_count": 86,
   "metadata": {},
   "outputs": [],
   "source": [
    "import json"
   ]
  },
  {
   "cell_type": "code",
   "execution_count": 87,
   "metadata": {},
   "outputs": [
    {
     "name": "stdout",
     "output_type": "stream",
     "text": [
      "{\n",
      "  \"type\": \"FeatureCollection\",\n",
      "  \"features\": [\n",
      "    {\n",
      "      \"type\": \"Feature\",\n",
      "      \"tippecanoe\": {\n",
      "        \"layer\": \"osm\",\n",
      "        \"minzoom\": 12,\n",
      "        \"maxzoom\": 12\n",
      "      },\n",
      "      \"properties\": {\n",
      "        \"@type\": \"way\",\n",
      "        \"@id\": 160930185,\n",
      "        \"@version\": 7,\n",
      "        \"@changeset\": 76160041,\n",
      "        \"@uid\": 9446950,\n",
      "        \"@user\": \"Olentangy\",\n",
      "        \"@timestamp\": 1571927803,\n",
      "        \"boat\": \"no\",\n",
      "        \"name\": \"Kwango\",\n",
      "        \"name:fr\": \"Kwango\",\n",
      "        \"name:pt\": \"Kwango\",\n",
      "        \"waterway\": \"river\",\n",
      "        \"class_id\": \"1\"\n",
      "      },\n",
      "      \"geometry\": {\n",
      "        \"type\": \"LineString\",\n",
      "        \"coordinates\": [\n",
      "          [\n",
      "            17.998117519034825,\n",
      "            -8.900106006634156\n",
      "          ],\n",
      "          [\n",
      "            17.997234,\n",
      "            -8.899896\n",
      "          ],\n",
      "          [\n",
      "            17.996324,\n",
      "            -8.898969\n",
      "          ],\n",
      "          [\n",
      "            17.995584,\n",
      "            -8.898014\n",
      "          ],\n",
      "          [\n",
      "            17.995499,\n",
      "            -8.896918\n",
      "          ],\n",
      "          [\n",
      "            17.996096,\n",
      "            -8.893405\n",
      "          ],\n",
      "          [\n",
      "            17.996523,\n",
      "            -8.891607\n",
      "          ],\n",
      "          [\n",
      "            17.997234,\n",
      "            -8.890118\n",
      "          ],\n",
      "          [\n",
      "            17.998117519034825,\n",
      "            -8.88922436709233\n",
      "          ]\n",
      "        ]\n",
      "      }\n",
      "    },\n",
      "    {\n",
      "      \"type\": \"Feature\",\n",
      "      \"stac_version\": \"0.8.1\",\n",
      "      \"id\": \"78f8f48e-a6d7-4e1a-9b1a-dd4df92115bc\",\n",
      "      \"properties\": {\n",
      "        \"datetime\": \"2019-07-09 09:12:59Z\",\n",
      "        \"label:description\": \"Label item for a scene item\",\n",
      "        \"label:type\": \"vector\",\n",
      "        \"label:property\": [\n",
      "          \"GIS objects\"\n",
      "        ],\n",
      "        \"label:classes\": [\n",
      "          {\n",
      "            \"name\": \"GIS objects\",\n",
      "            \"classes\": [\n",
      "              [\n",
      "                \"==\",\n",
      "                \"natural\",\n",
      "                \"water\"\n",
      "              ]\n",
      "            ]\n",
      "          }\n",
      "        ],\n",
      "        \"label:task\": [\n",
      "          \"classification\"\n",
      "        ],\n",
      "        \"label:method\": [\n",
      "          \"OSM\"\n",
      "        ],\n",
      "        \"label:properties\": [\n",
      "          \"GIS objects\"\n",
      "        ],\n",
      "        \"label:tasks\": [\n",
      "          \"classification\"\n",
      "        ],\n",
      "        \"label:methods\": [\n",
      "          \"OSM\"\n",
      "        ]\n",
      "      },\n",
      "      \"geometry\": {\n",
      "        \"type\": \"Polygon\",\n",
      "        \"coordinates\": [\n",
      "          [\n",
      "            [\n",
      "              17.95987783475377,\n",
      "              -8.871333425075191\n",
      "            ],\n",
      "            [\n",
      "              17.997778417638852,\n",
      "              -8.871030934717718\n",
      "            ],\n",
      "            [\n",
      "              17.998117519034825,\n",
      "              -8.917278575706348\n",
      "            ],\n",
      "            [\n",
      "              17.960249654116048,\n",
      "              -8.917582365280794\n",
      "            ],\n",
      "            [\n",
      "              17.95987783475377,\n",
      "              -8.871333425075191\n",
      "            ]\n",
      "          ]\n",
      "        ]\n",
      "      },\n",
      "      \"bbox\": [\n",
      "        -9.124940692148286,\n",
      "        17.72206981427617,\n",
      "        -8.125031654306673,\n",
      "        18.726859889243226\n",
      "      ],\n",
      "      \"links\": [\n",
      "        {\n",
      "          \"rel\": \"source\",\n",
      "          \"href\": \"s3://raster-vision-rob-dev/stac-packer/bae/angola-cog-water-label/74a2d593-e3b8-4d42-94ac-c1b3ce98a7ac/5-S2A_MSIL1C_20190709T084601_N0208_R107_T33LZL_20190709T105334-101/5-S2A_MSIL1C_20190709T084601_N0208_R107_T33LZL_20190709T105334-101.json\",\n",
      "          \"type\": \"application/json\"\n",
      "        },\n",
      "        {\n",
      "          \"rel\": \"collection\",\n",
      "          \"href\": \"s3://raster-vision-rob-dev/stac-packer/bae/angola-cog-water-label/35e2d746-2f65-4596-bad6-195bda0b5a90/collection.json\",\n",
      "          \"type\": \"application/json\"\n",
      "        },\n",
      "        {\n",
      "          \"rel\": \"self\",\n",
      "          \"href\": \"s3://raster-vision-rob-dev/stac-packer/bae/angola-cog-water-label/35e2d746-2f65-4596-bad6-195bda0b5a90/78f8f48e-a6d7-4e1a-9b1a-dd4df92115bc/78f8f48e-a6d7-4e1a-9b1a-dd4df92115bc.json\",\n",
      "          \"type\": \"application/json\"\n",
      "        },\n",
      "        {\n",
      "          \"rel\": \"root\",\n",
      "          \"href\": \"s3://raster-vision-rob-dev/stac-packer/bae/angola-cog-water-label/catalog.json\",\n",
      "          \"type\": \"application/json\"\n",
      "        },\n",
      "        {\n",
      "          \"rel\": \"parent\",\n",
      "          \"href\": \"s3://raster-vision-rob-dev/stac-packer/bae/angola-cog-water-label/35e2d746-2f65-4596-bad6-195bda0b5a90/collection.json\",\n",
      "          \"type\": \"application/json\"\n",
      "        }\n",
      "      ],\n",
      "      \"assets\": {\n",
      "        \"78f8f48e-a6d7-4e1a-9b1a-dd4df92115bc\": {\n",
      "          \"href\": \"s3://raster-vision-rob-dev/stac-packer/bae/angola-cog-water-label/35e2d746-2f65-4596-bad6-195bda0b5a90/78f8f48e-a6d7-4e1a-9b1a-dd4df92115bc/data.geojson\",\n",
      "          \"type\": \"application/geo+json\",\n",
      "          \"title\": \"Label Data FeatureCollection\"\n",
      "        }\n",
      "      },\n",
      "      \"stac_extensions\": [\n",
      "        \"label\"\n",
      "      ]\n",
      "    }\n",
      "  ]\n",
      "}\n"
     ]
    }
   ],
   "source": [
    "print(json.dumps(gj, indent=2))"
   ]
  },
  {
   "cell_type": "code",
   "execution_count": null,
   "metadata": {},
   "outputs": [],
   "source": []
  }
 ],
 "metadata": {
  "kernelspec": {
   "display_name": "Python 3",
   "language": "python",
   "name": "python3"
  },
  "language_info": {
   "codemirror_mode": {
    "name": "ipython",
    "version": 3
   },
   "file_extension": ".py",
   "mimetype": "text/x-python",
   "name": "python",
   "nbconvert_exporter": "python",
   "pygments_lexer": "ipython3",
   "version": "3.6.5"
  }
 },
 "nbformat": 4,
 "nbformat_minor": 2
}
